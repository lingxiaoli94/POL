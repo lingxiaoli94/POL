{
 "cells": [
  {
   "cell_type": "code",
   "execution_count": 3,
   "id": "1c92f2bf-6212-4874-a245-e98eaeec8d3e",
   "metadata": {},
   "outputs": [
    {
     "name": "stdout",
     "output_type": "stream",
     "text": [
      "['coco-2017-train', 'coco-2017-validation', 'val_full_bn', 'val_full_bn_hor5_toy', 'val_full_bn_not', 'val_full_bn_nreg_hor5', 'val_full_bn_nreg_hor5_hot', 'val_full_bn_nreg_npe_hor5']\n"
     ]
    }
   ],
   "source": [
    "import fiftyone as fo\n",
    "\n",
    "print(fo.list_datasets())"
   ]
  },
  {
   "cell_type": "code",
   "execution_count": 7,
   "id": "54e076e8-93bc-4071-a562-1dea7b9ccd8a",
   "metadata": {},
   "outputs": [],
   "source": [
    "# fo.load_dataset('val_full_bn_nreg_hor5_hot').delete()"
   ]
  },
  {
   "cell_type": "code",
   "execution_count": null,
   "id": "cdcbe104-4682-45ee-b35b-691fa71bc264",
   "metadata": {},
   "outputs": [],
   "source": []
  }
 ],
 "metadata": {
  "kernelspec": {
   "display_name": "Python 3 (ipykernel)",
   "language": "python",
   "name": "python3"
  },
  "language_info": {
   "codemirror_mode": {
    "name": "ipython",
    "version": 3
   },
   "file_extension": ".py",
   "mimetype": "text/x-python",
   "name": "python",
   "nbconvert_exporter": "python",
   "pygments_lexer": "ipython3",
   "version": "3.9.7"
  }
 },
 "nbformat": 4,
 "nbformat_minor": 5
}
