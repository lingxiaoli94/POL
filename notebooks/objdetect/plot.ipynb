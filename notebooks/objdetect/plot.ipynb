{
 "cells": [
  {
   "cell_type": "code",
   "execution_count": 1,
   "id": "2fb59980-27fb-4a18-8261-8ed024cc0501",
   "metadata": {},
   "outputs": [],
   "source": [
    "import numpy as np\n",
    "import torch\n",
    "import matplotlib.pyplot as plt\n",
    "from matplotlib import patches\n",
    "from pathlib import Path\n",
    "import json\n",
    "import gzip\n",
    "import h5py\n",
    "import random\n",
    "from pol.utils.validation.scene_saver import load_scenes, count_h5_keys\n",
    "from pol.datasets.objdetect import COCODataset, collate_padding_fn\n",
    "from torch.utils.data import DataLoader, Dataset"
   ]
  },
  {
   "cell_type": "code",
   "execution_count": 5,
   "id": "84ef2c20-ab6c-49f0-97d5-4508a500cf14",
   "metadata": {},
   "outputs": [],
   "source": [
    "# scene_path = '../../tests/objdetect/scenes/full_spe/pol_res_mot/step-1000000.h5'\n",
    "scene_path = '../../tests/objdetect/scenes/full_spe/gol_res_mlr/step-1000000.h5'\n",
    "scenes = load_scenes(scene_path, unroll=False)\n",
    "eval_itr = 5000\n",
    "split = 'validation'"
   ]
  },
  {
   "cell_type": "code",
   "execution_count": 6,
   "id": "e31008d0-3bd1-41f4-aeb9-18a5f0560987",
   "metadata": {},
   "outputs": [],
   "source": [
    "def draw_img(ax, img, boxes=None, gt_boxes=None, lw=3.0):\n",
    "    #img = torch.permute(img, [1, 2, 0])\n",
    "    #ax.xaxis.tick_top()\n",
    "    ax.imshow(img)\n",
    "    \n",
    "    if boxes is not None:\n",
    "        for box in boxes:\n",
    "            x, y, w, h = box\n",
    "            x -= 0.5 * w\n",
    "            y -= 0.5 * h\n",
    "            x *= img.shape[1]\n",
    "            y *= img.shape[0]\n",
    "            w *= img.shape[1]\n",
    "            h *= img.shape[0]\n",
    "            ax.add_patch(patches.Rectangle((x, y), w, h, fill=False, edgecolor='orange', lw=lw))\n",
    "        \n",
    "    if gt_boxes is not None:\n",
    "        for box in gt_boxes:\n",
    "            x, y, w, h = box\n",
    "            x -= 0.5 * w\n",
    "            y -= 0.5 * h\n",
    "            x *= img.shape[1]\n",
    "            y *= img.shape[0]\n",
    "            w *= img.shape[1]\n",
    "            h *= img.shape[0]\n",
    "            ax.add_patch(patches.Rectangle((x, y), w, h, fill=False, edgecolor='green', lw=lw))\n"
   ]
  },
  {
   "cell_type": "code",
   "execution_count": 7,
   "id": "05f86d79-921a-40bd-b8fe-3247f4e8961c",
   "metadata": {},
   "outputs": [
    {
     "ename": "KeyError",
     "evalue": "\"Unable to open object (object 'itr_5000' doesn't exist)\"",
     "output_type": "error",
     "traceback": [
      "\u001b[0;31m---------------------------------------------------------------------------\u001b[0m",
      "\u001b[0;31mKeyError\u001b[0m                                  Traceback (most recent call last)",
      "\u001b[0;32m/tmp/ipykernel_91389/4275959999.py\u001b[0m in \u001b[0;36m<module>\u001b[0;34m\u001b[0m\n\u001b[1;32m     32\u001b[0m             \u001b[0mdraw_img\u001b[0m\u001b[0;34m(\u001b[0m\u001b[0max\u001b[0m\u001b[0;34m,\u001b[0m \u001b[0mimg\u001b[0m\u001b[0;34m,\u001b[0m \u001b[0mboxes\u001b[0m\u001b[0;34m=\u001b[0m\u001b[0mboxes\u001b[0m\u001b[0;34m)\u001b[0m\u001b[0;31m#, gt_boxes=gt_boxes)\u001b[0m\u001b[0;34m\u001b[0m\u001b[0;34m\u001b[0m\u001b[0m\n\u001b[1;32m     33\u001b[0m \u001b[0;34m\u001b[0m\u001b[0m\n\u001b[0;32m---> 34\u001b[0;31m \u001b[0mvis_grid\u001b[0m\u001b[0;34m(\u001b[0m\u001b[0;34m)\u001b[0m\u001b[0;34m\u001b[0m\u001b[0;34m\u001b[0m\u001b[0m\n\u001b[0m",
      "\u001b[0;32m/tmp/ipykernel_91389/4275959999.py\u001b[0m in \u001b[0;36mvis_grid\u001b[0;34m()\u001b[0m\n\u001b[1;32m     29\u001b[0m             \u001b[0mimg\u001b[0m \u001b[0;34m=\u001b[0m \u001b[0mnp\u001b[0m\u001b[0;34m.\u001b[0m\u001b[0mtranspose\u001b[0m\u001b[0;34m(\u001b[0m\u001b[0mimg\u001b[0m\u001b[0;34m,\u001b[0m \u001b[0;34m(\u001b[0m\u001b[0;36m1\u001b[0m\u001b[0;34m,\u001b[0m \u001b[0;36m2\u001b[0m\u001b[0;34m,\u001b[0m \u001b[0;36m0\u001b[0m\u001b[0;34m)\u001b[0m\u001b[0;34m)\u001b[0m\u001b[0;34m\u001b[0m\u001b[0;34m\u001b[0m\u001b[0m\n\u001b[1;32m     30\u001b[0m             \u001b[0mgt_boxes\u001b[0m \u001b[0;34m=\u001b[0m \u001b[0mscenes\u001b[0m\u001b[0;34m[\u001b[0m\u001b[0mj\u001b[0m\u001b[0;34m]\u001b[0m\u001b[0;34m[\u001b[0m\u001b[0;34m'gt'\u001b[0m\u001b[0;34m]\u001b[0m\u001b[0;34m[\u001b[0m\u001b[0;34m'boxes'\u001b[0m\u001b[0;34m]\u001b[0m\u001b[0;34m[\u001b[0m\u001b[0;34m:\u001b[0m\u001b[0;34m]\u001b[0m\u001b[0;34m\u001b[0m\u001b[0;34m\u001b[0m\u001b[0m\n\u001b[0;32m---> 31\u001b[0;31m             \u001b[0mboxes\u001b[0m \u001b[0;34m=\u001b[0m \u001b[0mscenes\u001b[0m\u001b[0;34m[\u001b[0m\u001b[0mj\u001b[0m\u001b[0;34m]\u001b[0m\u001b[0;34m[\u001b[0m\u001b[0;34mf'itr_{eval_itr}'\u001b[0m\u001b[0;34m]\u001b[0m\u001b[0;34m[\u001b[0m\u001b[0;34m'boxes'\u001b[0m\u001b[0;34m]\u001b[0m\u001b[0;34m[\u001b[0m\u001b[0;34m:\u001b[0m\u001b[0;34m]\u001b[0m\u001b[0;34m\u001b[0m\u001b[0;34m\u001b[0m\u001b[0m\n\u001b[0m\u001b[1;32m     32\u001b[0m             \u001b[0mdraw_img\u001b[0m\u001b[0;34m(\u001b[0m\u001b[0max\u001b[0m\u001b[0;34m,\u001b[0m \u001b[0mimg\u001b[0m\u001b[0;34m,\u001b[0m \u001b[0mboxes\u001b[0m\u001b[0;34m=\u001b[0m\u001b[0mboxes\u001b[0m\u001b[0;34m)\u001b[0m\u001b[0;31m#, gt_boxes=gt_boxes)\u001b[0m\u001b[0;34m\u001b[0m\u001b[0;34m\u001b[0m\u001b[0m\n\u001b[1;32m     33\u001b[0m \u001b[0;34m\u001b[0m\u001b[0m\n",
      "\u001b[0;32mh5py/_objects.pyx\u001b[0m in \u001b[0;36mh5py._objects.with_phil.wrapper\u001b[0;34m()\u001b[0m\n",
      "\u001b[0;32mh5py/_objects.pyx\u001b[0m in \u001b[0;36mh5py._objects.with_phil.wrapper\u001b[0;34m()\u001b[0m\n",
      "\u001b[0;32m/mnt/lingxiao/anaconda3/envs/myenv/lib/python3.8/site-packages/h5py/_hl/group.py\u001b[0m in \u001b[0;36m__getitem__\u001b[0;34m(self, name)\u001b[0m\n\u001b[1;32m    303\u001b[0m                 \u001b[0;32mraise\u001b[0m \u001b[0mValueError\u001b[0m\u001b[0;34m(\u001b[0m\u001b[0;34m\"Invalid HDF5 object reference\"\u001b[0m\u001b[0;34m)\u001b[0m\u001b[0;34m\u001b[0m\u001b[0;34m\u001b[0m\u001b[0m\n\u001b[1;32m    304\u001b[0m         \u001b[0;32melif\u001b[0m \u001b[0misinstance\u001b[0m\u001b[0;34m(\u001b[0m\u001b[0mname\u001b[0m\u001b[0;34m,\u001b[0m \u001b[0;34m(\u001b[0m\u001b[0mbytes\u001b[0m\u001b[0;34m,\u001b[0m \u001b[0mstr\u001b[0m\u001b[0;34m)\u001b[0m\u001b[0;34m)\u001b[0m\u001b[0;34m:\u001b[0m\u001b[0;34m\u001b[0m\u001b[0;34m\u001b[0m\u001b[0m\n\u001b[0;32m--> 305\u001b[0;31m             \u001b[0moid\u001b[0m \u001b[0;34m=\u001b[0m \u001b[0mh5o\u001b[0m\u001b[0;34m.\u001b[0m\u001b[0mopen\u001b[0m\u001b[0;34m(\u001b[0m\u001b[0mself\u001b[0m\u001b[0;34m.\u001b[0m\u001b[0mid\u001b[0m\u001b[0;34m,\u001b[0m \u001b[0mself\u001b[0m\u001b[0;34m.\u001b[0m\u001b[0m_e\u001b[0m\u001b[0;34m(\u001b[0m\u001b[0mname\u001b[0m\u001b[0;34m)\u001b[0m\u001b[0;34m,\u001b[0m \u001b[0mlapl\u001b[0m\u001b[0;34m=\u001b[0m\u001b[0mself\u001b[0m\u001b[0;34m.\u001b[0m\u001b[0m_lapl\u001b[0m\u001b[0;34m)\u001b[0m\u001b[0;34m\u001b[0m\u001b[0;34m\u001b[0m\u001b[0m\n\u001b[0m\u001b[1;32m    306\u001b[0m         \u001b[0;32melse\u001b[0m\u001b[0;34m:\u001b[0m\u001b[0;34m\u001b[0m\u001b[0;34m\u001b[0m\u001b[0m\n\u001b[1;32m    307\u001b[0m             raise TypeError(\"Accessing a group is done with bytes or str, \"\n",
      "\u001b[0;32mh5py/_objects.pyx\u001b[0m in \u001b[0;36mh5py._objects.with_phil.wrapper\u001b[0;34m()\u001b[0m\n",
      "\u001b[0;32mh5py/_objects.pyx\u001b[0m in \u001b[0;36mh5py._objects.with_phil.wrapper\u001b[0;34m()\u001b[0m\n",
      "\u001b[0;32mh5py/h5o.pyx\u001b[0m in \u001b[0;36mh5py.h5o.open\u001b[0;34m()\u001b[0m\n",
      "\u001b[0;31mKeyError\u001b[0m: \"Unable to open object (object 'itr_5000' doesn't exist)\""
     ]
    },
    {
     "data": {
      "image/png": "[encoded data removed]",
      "text/plain": [
       "<Figure size 1512x648 with 21 Axes>"
      ]
     },
     "metadata": {
      "needs_background": "light"
     },
     "output_type": "display_data"
    }
   ],
   "source": [
    "from PIL import Image\n",
    "import torchvision\n",
    "import copy\n",
    "\n",
    "def vis_grid():\n",
    "    #rng = np.random.default_rng(42)\n",
    "    rng = np.random.default_rng(45)\n",
    "\n",
    "    figsize = 3\n",
    "    # num_row=10\n",
    "    # num_col=7\n",
    "    num_row=3\n",
    "    num_col=7\n",
    "\n",
    "    perm = rng.permutation(len(scenes))\n",
    "    fig, axes = plt.subplots(num_row, num_col,\n",
    "                            squeeze=False, constrained_layout=True)\n",
    "    fig.set_size_inches(figsize*num_col, figsize*num_row)\n",
    "\n",
    "    for r in range(num_row):\n",
    "        for c in range(num_col):\n",
    "            ax = axes[r, c]\n",
    "            ax.axis('off')\n",
    "            # ax.set_xticklabels([])\n",
    "            # ax.set_yticklabels([])\n",
    "            ax.set_aspect('equal')\n",
    "            j = perm[r * num_col + c]\n",
    "            img = scenes[j]['gt']['img'][:] / 255\n",
    "            img = np.transpose(img, (1, 2, 0))\n",
    "            gt_boxes = scenes[j]['gt']['boxes'][:]\n",
    "            boxes = scenes[j][f'itr_{eval_itr}']['boxes'][:]\n",
    "            draw_img(ax, img, boxes=boxes)#, gt_boxes=gt_boxes)\n",
    "\n",
    "vis_grid()"
   ]
  },
  {
   "cell_type": "code",
   "execution_count": null,
   "id": "ed63b419-a179-4775-8dd3-7f287c431158",
   "metadata": {},
   "outputs": [],
   "source": [
    "def vis_gradual():\n",
    "    # Good img ids: 1538, 1012, 2519, 964, 1401, 500, 1921, 3760, 1752, 553, 2861, 2255, 3701\n",
    "    \n",
    "    rng = np.random.default_rng(26)\n",
    "    \n",
    "    figsize = 3\n",
    "    num_row=20\n",
    "    num_col=5\n",
    "    \n",
    "    itrs = [0, 1, 2, 3, 4]\n",
    "\n",
    "    perm = rng.permutation(len(scenes))\n",
    "    perm = [500, 3701]\n",
    "    num_row = len(perm)\n",
    "    \n",
    "    fig, axes = plt.subplots(num_row, num_col,\n",
    "                            squeeze=False, constrained_layout=True)\n",
    "    fig.set_size_inches(figsize*num_col, figsize*num_row)\n",
    "    print(perm[:num_row])\n",
    "    for r in range(num_row):\n",
    "        for c in range(num_col):\n",
    "            ax = axes[r, c]\n",
    "            ax.axis('off')\n",
    "            # ax.set_xticklabels([])\n",
    "            # ax.set_yticklabels([])\n",
    "            ax.set_aspect('equal')\n",
    "            j = perm[r]\n",
    "            img = scenes[j]['gt']['img'][:] / 255\n",
    "            img = np.transpose(img, (1, 2, 0))\n",
    "            boxes = scenes[j][f'itr_{itrs[c]}']['boxes'][:20]\n",
    "            draw_img(ax, img, boxes=boxes)#, gt_boxes=gt_boxes)\n",
    "            \n",
    "#vis_gradual()"
   ]
  },
  {
   "cell_type": "code",
   "execution_count": null,
   "id": "59c0866d-6ebe-48d6-b99e-c94992db2679",
   "metadata": {},
   "outputs": [],
   "source": []
  },
  {
   "cell_type": "code",
   "execution_count": null,
   "id": "0ebb4ee6-367d-476a-9378-fdc2b15594bc",
   "metadata": {},
   "outputs": [],
   "source": []
  }
 ],
 "metadata": {
  "kernelspec": {
   "display_name": "Python 3 (ipykernel)",
   "language": "python",
   "name": "python3"
  },
  "language_info": {
   "codemirror_mode": {
    "name": "ipython",
    "version": 3
   },
   "file_extension": ".py",
   "mimetype": "text/x-python",
   "name": "python",
   "nbconvert_exporter": "python",
   "pygments_lexer": "ipython3",
   "version": "3.8.12"
  }
 },
 "nbformat": 4,
 "nbformat_minor": 5
}
